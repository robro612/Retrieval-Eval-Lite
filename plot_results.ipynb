{
 "cells": [
  {
   "cell_type": "code",
   "execution_count": 2,
   "metadata": {},
   "outputs": [
    {
     "name": "stderr",
     "output_type": "stream",
     "text": [
      "/home/rjha/miniforge3/envs/dataset_subsample/lib/python3.10/site-packages/tqdm/auto.py:21: TqdmWarning: IProgress not found. Please update jupyter and ipywidgets. See https://ipywidgets.readthedocs.io/en/stable/user_install.html\n",
      "  from .autonotebook import tqdm as notebook_tqdm\n"
     ]
    }
   ],
   "source": [
    "import pandas as pd\n",
    "import matplotlib.pyplot as plt\n",
    "import numpy as np\n",
    "import os\n",
    "\n",
    "from utils import get_subsample_method_name, get_results_path, get_retriever_output_path, load_results"
   ]
  },
  {
   "cell_type": "code",
   "execution_count": 14,
   "metadata": {},
   "outputs": [],
   "source": [
    "dataset = \"nfcorpus\"\n",
    "neg_retriever = \"BM25s\"\n",
    "subsample_top_k = 250\n",
    "subsample_method = get_subsample_method_name(neg_retriever, subsample_top_k)\n",
    "retriever = \"BM25s\"\n",
    "full = load_results(get_results_path(dataset=dataset, subsample_method=subsample_method, retriever=retriever))\n",
    "full[\"dataset\"] = dataset\n",
    "full[\"subsample_method\"] = subsample_method\n",
    "full[\"neg_retriever\"] = neg_retriever\n",
    "full[\"subsample_top_k\"] = subsample_top_k\n",
    "full[\"retriever\"] = retriever\n",
    "cols = full.columns.to_list()\n",
    "full = full[cols[-5:] + cols[1:-5]]\n"
   ]
  },
  {
   "cell_type": "code",
   "execution_count": 15,
   "metadata": {},
   "outputs": [
    {
     "data": {
      "text/html": [
       "<div>\n",
       "<style scoped>\n",
       "    .dataframe tbody tr th:only-of-type {\n",
       "        vertical-align: middle;\n",
       "    }\n",
       "\n",
       "    .dataframe tbody tr th {\n",
       "        vertical-align: top;\n",
       "    }\n",
       "\n",
       "    .dataframe thead th {\n",
       "        text-align: right;\n",
       "    }\n",
       "</style>\n",
       "<table border=\"1\" class=\"dataframe\">\n",
       "  <thead>\n",
       "    <tr style=\"text-align: right;\">\n",
       "      <th></th>\n",
       "      <th>dataset</th>\n",
       "      <th>subsample_method</th>\n",
       "      <th>neg_retriever</th>\n",
       "      <th>subsample_top_k</th>\n",
       "      <th>retriever</th>\n",
       "      <th>nDCG@10</th>\n",
       "      <th>nDCG@100</th>\n",
       "      <th>nDCG@1000</th>\n",
       "      <th>R@1</th>\n",
       "      <th>R@10</th>\n",
       "      <th>R@100</th>\n",
       "      <th>R@1000</th>\n",
       "      <th>RR@10</th>\n",
       "      <th>RR@100</th>\n",
       "      <th>RR@1000</th>\n",
       "      <th>Success@1</th>\n",
       "      <th>Success@5</th>\n",
       "      <th>Success@10</th>\n",
       "      <th>Success@50</th>\n",
       "      <th>Success@100</th>\n",
       "    </tr>\n",
       "  </thead>\n",
       "  <tbody>\n",
       "    <tr>\n",
       "      <th>0</th>\n",
       "      <td>nfcorpus</td>\n",
       "      <td>BM25s_top_250</td>\n",
       "      <td>BM25s</td>\n",
       "      <td>250</td>\n",
       "      <td>BM25s</td>\n",
       "      <td>0.287909</td>\n",
       "      <td>0.244958</td>\n",
       "      <td>0.315356</td>\n",
       "      <td>0.035613</td>\n",
       "      <td>0.127115</td>\n",
       "      <td>0.231426</td>\n",
       "      <td>0.450916</td>\n",
       "      <td>0.486411</td>\n",
       "      <td>0.491373</td>\n",
       "      <td>0.491677</td>\n",
       "      <td>0.407407</td>\n",
       "      <td>0.592593</td>\n",
       "      <td>0.657407</td>\n",
       "      <td>0.740741</td>\n",
       "      <td>0.759259</td>\n",
       "    </tr>\n",
       "  </tbody>\n",
       "</table>\n",
       "</div>"
      ],
      "text/plain": [
       "    dataset subsample_method neg_retriever  subsample_top_k retriever  \\\n",
       "0  nfcorpus    BM25s_top_250         BM25s              250     BM25s   \n",
       "\n",
       "    nDCG@10  nDCG@100  nDCG@1000       R@1      R@10     R@100    R@1000  \\\n",
       "0  0.287909  0.244958   0.315356  0.035613  0.127115  0.231426  0.450916   \n",
       "\n",
       "      RR@10    RR@100   RR@1000  Success@1  Success@5  Success@10  Success@50  \\\n",
       "0  0.486411  0.491373  0.491677   0.407407   0.592593    0.657407    0.740741   \n",
       "\n",
       "   Success@100  \n",
       "0     0.759259  "
      ]
     },
     "execution_count": 15,
     "metadata": {},
     "output_type": "execute_result"
    }
   ],
   "source": [
    "full"
   ]
  },
  {
   "cell_type": "code",
   "execution_count": 18,
   "metadata": {},
   "outputs": [
    {
     "data": {
      "text/plain": [
       "['BM25s', 'top', '250']"
      ]
     },
     "execution_count": 18,
     "metadata": {},
     "output_type": "execute_result"
    }
   ],
   "source": [
    "\"BM25s_top_250\".split(\"_\", maxsplit=2)"
   ]
  },
  {
   "cell_type": "code",
   "execution_count": 20,
   "metadata": {},
   "outputs": [],
   "source": [
    "full[\"num_docs\"] = 42"
   ]
  },
  {
   "cell_type": "code",
   "execution_count": null,
   "metadata": {},
   "outputs": [],
   "source": []
  },
  {
   "cell_type": "code",
   "execution_count": 9,
   "metadata": {},
   "outputs": [],
   "source": [
    "retrievers = [\n",
    "    \"snowflake-arctic-embed-m-long\",\n",
    "    \"gte-base-en-v1.5\",\n",
    "    \"all-mpnet-base-v2\",\n",
    "    \"bge-base-en-v1.5\",\n",
    "    \"e5-base-v2\",\n",
    "    \"jina-embeddings-v2-base-en-flash\",\n",
    "    \"BM25s\",\n",
    "]\n",
    "datasets = [\"nfcorpus\"]\n",
    "top_ks = [1, 10, 50, 100, 250, 500, 750, 1000]\n",
    "\n",
    "full = pd.concat([\n",
    "    load_results(get_results_path(\n",
    "        dataset=dataset,\n",
    "        subsample_method=\"full\",\n",
    "        retriever=retriever,\n",
    "    ))\n",
    "    for retriever in retrievers\n",
    "    for dataset in datasets\n",
    "] +[\n",
    "    load_results(get_results_path(\n",
    "        dataset=dataset,\n",
    "        subsample_method=get_subsample_method_name(neg_retriever, top_k),\n",
    "        retriever=retriever,\n",
    "    ))\n",
    "    for retriever in retrievers\n",
    "    for neg_retriever in retrievers\n",
    "    for dataset in datasets\n",
    "    for top_k in top_ks\n",
    "])\n"
   ]
  },
  {
   "cell_type": "code",
   "execution_count": 10,
   "metadata": {},
   "outputs": [],
   "source": [
    "full.to_csv(\"foobar.csv\")"
   ]
  },
  {
   "cell_type": "code",
   "execution_count": 7,
   "metadata": {},
   "outputs": [
    {
     "ename": "AttributeError",
     "evalue": "'DataFrame' object has no attribute 'dataset'",
     "output_type": "error",
     "traceback": [
      "\u001b[0;31m---------------------------------------------------------------------------\u001b[0m",
      "\u001b[0;31mAttributeError\u001b[0m                            Traceback (most recent call last)",
      "\u001b[0;32m/tmp/ipykernel_3650796/1393365817.py\u001b[0m in \u001b[0;36m?\u001b[0;34m()\u001b[0m\n\u001b[0;32m----> 1\u001b[0;31m \u001b[0mfiltered_full\u001b[0m \u001b[0;34m=\u001b[0m \u001b[0mfull\u001b[0m\u001b[0;34m[\u001b[0m\u001b[0;34m(\u001b[0m\u001b[0mfull\u001b[0m\u001b[0;34m.\u001b[0m\u001b[0mdataset\u001b[0m \u001b[0;34m==\u001b[0m \u001b[0;34m\"nfcorpus\"\u001b[0m\u001b[0;34m)\u001b[0m \u001b[0;34m&\u001b[0m \u001b[0;34m(\u001b[0m\u001b[0mfull\u001b[0m\u001b[0;34m.\u001b[0m\u001b[0mretriever\u001b[0m \u001b[0;34m==\u001b[0m \u001b[0;34m\"BM25s\"\u001b[0m\u001b[0;34m)\u001b[0m\u001b[0;34m]\u001b[0m\u001b[0;34m\u001b[0m\u001b[0;34m\u001b[0m\u001b[0m\n\u001b[0m",
      "\u001b[0;32m~/miniforge3/envs/dataset_subsample/lib/python3.10/site-packages/pandas/core/generic.py\u001b[0m in \u001b[0;36m?\u001b[0;34m(self, name)\u001b[0m\n\u001b[1;32m   6295\u001b[0m             \u001b[0;32mand\u001b[0m \u001b[0mname\u001b[0m \u001b[0;32mnot\u001b[0m \u001b[0;32min\u001b[0m \u001b[0mself\u001b[0m\u001b[0;34m.\u001b[0m\u001b[0m_accessors\u001b[0m\u001b[0;34m\u001b[0m\u001b[0;34m\u001b[0m\u001b[0m\n\u001b[1;32m   6296\u001b[0m             \u001b[0;32mand\u001b[0m \u001b[0mself\u001b[0m\u001b[0;34m.\u001b[0m\u001b[0m_info_axis\u001b[0m\u001b[0;34m.\u001b[0m\u001b[0m_can_hold_identifiers_and_holds_name\u001b[0m\u001b[0;34m(\u001b[0m\u001b[0mname\u001b[0m\u001b[0;34m)\u001b[0m\u001b[0;34m\u001b[0m\u001b[0;34m\u001b[0m\u001b[0m\n\u001b[1;32m   6297\u001b[0m         ):\n\u001b[1;32m   6298\u001b[0m             \u001b[0;32mreturn\u001b[0m \u001b[0mself\u001b[0m\u001b[0;34m[\u001b[0m\u001b[0mname\u001b[0m\u001b[0;34m]\u001b[0m\u001b[0;34m\u001b[0m\u001b[0;34m\u001b[0m\u001b[0m\n\u001b[0;32m-> 6299\u001b[0;31m         \u001b[0;32mreturn\u001b[0m \u001b[0mobject\u001b[0m\u001b[0;34m.\u001b[0m\u001b[0m__getattribute__\u001b[0m\u001b[0;34m(\u001b[0m\u001b[0mself\u001b[0m\u001b[0;34m,\u001b[0m \u001b[0mname\u001b[0m\u001b[0;34m)\u001b[0m\u001b[0;34m\u001b[0m\u001b[0;34m\u001b[0m\u001b[0m\n\u001b[0m",
      "\u001b[0;31mAttributeError\u001b[0m: 'DataFrame' object has no attribute 'dataset'"
     ]
    }
   ],
   "source": [
    "filtered_full = full[(full.dataset == \"nfcorpus\") & (full.retriever == \"BM25s\")]"
   ]
  },
  {
   "cell_type": "code",
   "execution_count": 67,
   "metadata": {},
   "outputs": [
    {
     "data": {
      "text/html": [
       "<div>\n",
       "<style scoped>\n",
       "    .dataframe tbody tr th:only-of-type {\n",
       "        vertical-align: middle;\n",
       "    }\n",
       "\n",
       "    .dataframe tbody tr th {\n",
       "        vertical-align: top;\n",
       "    }\n",
       "\n",
       "    .dataframe thead th {\n",
       "        text-align: right;\n",
       "    }\n",
       "</style>\n",
       "<table border=\"1\" class=\"dataframe\">\n",
       "  <thead>\n",
       "    <tr style=\"text-align: right;\">\n",
       "      <th></th>\n",
       "      <th>dataset</th>\n",
       "      <th>retriever</th>\n",
       "      <th>neg_retriever_name</th>\n",
       "      <th>subsample_top_k</th>\n",
       "      <th>num_docs</th>\n",
       "      <th>nDCG@10</th>\n",
       "      <th>nDCG@100</th>\n",
       "      <th>nDCG@1000</th>\n",
       "      <th>R@1</th>\n",
       "      <th>R@10</th>\n",
       "      <th>R@100</th>\n",
       "      <th>R@1000</th>\n",
       "      <th>RR@10</th>\n",
       "      <th>RR@100</th>\n",
       "      <th>RR@1000</th>\n",
       "      <th>Success@1</th>\n",
       "      <th>Success@5</th>\n",
       "      <th>Success@10</th>\n",
       "      <th>Success@50</th>\n",
       "      <th>Success@100</th>\n",
       "    </tr>\n",
       "  </thead>\n",
       "  <tbody>\n",
       "    <tr>\n",
       "      <th>0</th>\n",
       "      <td>nfcorpus</td>\n",
       "      <td>BM25s</td>\n",
       "      <td>full</td>\n",
       "      <td>0</td>\n",
       "      <td>3633</td>\n",
       "      <td>0.287924</td>\n",
       "      <td>0.244999</td>\n",
       "      <td>0.315395</td>\n",
       "      <td>0.035613</td>\n",
       "      <td>0.127115</td>\n",
       "      <td>0.23147</td>\n",
       "      <td>0.451041</td>\n",
       "      <td>0.486411</td>\n",
       "      <td>0.491373</td>\n",
       "      <td>0.491677</td>\n",
       "      <td>0.407407</td>\n",
       "      <td>0.592593</td>\n",
       "      <td>0.657407</td>\n",
       "      <td>0.740741</td>\n",
       "      <td>0.759259</td>\n",
       "    </tr>\n",
       "  </tbody>\n",
       "</table>\n",
       "</div>"
      ],
      "text/plain": [
       "    dataset retriever neg_retriever_name  subsample_top_k  num_docs   nDCG@10  \\\n",
       "0  nfcorpus     BM25s               full                0      3633  0.287924   \n",
       "\n",
       "   nDCG@100  nDCG@1000       R@1      R@10    R@100    R@1000     RR@10  \\\n",
       "0  0.244999   0.315395  0.035613  0.127115  0.23147  0.451041  0.486411   \n",
       "\n",
       "     RR@100   RR@1000  Success@1  Success@5  Success@10  Success@50  \\\n",
       "0  0.491373  0.491677   0.407407   0.592593    0.657407    0.740741   \n",
       "\n",
       "   Success@100  \n",
       "0     0.759259  "
      ]
     },
     "execution_count": 67,
     "metadata": {},
     "output_type": "execute_result"
    }
   ],
   "source": [
    "filtered_full"
   ]
  },
  {
   "cell_type": "code",
   "execution_count": null,
   "metadata": {},
   "outputs": [],
   "source": []
  }
 ],
 "metadata": {
  "kernelspec": {
   "display_name": "dataset_subsample",
   "language": "python",
   "name": "python3"
  },
  "language_info": {
   "codemirror_mode": {
    "name": "ipython",
    "version": 3
   },
   "file_extension": ".py",
   "mimetype": "text/x-python",
   "name": "python",
   "nbconvert_exporter": "python",
   "pygments_lexer": "ipython3",
   "version": "3.10.14"
  }
 },
 "nbformat": 4,
 "nbformat_minor": 2
}
